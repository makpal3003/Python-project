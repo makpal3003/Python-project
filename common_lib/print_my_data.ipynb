{
 "cells": [
  {
   "cell_type": "code",
   "execution_count": 20,
   "metadata": {},
   "outputs": [
    {
     "name": "stdout",
     "output_type": "stream",
     "text": [
      "{'id': 'd2VicGxhdGZvcm06Yzc3MDE2OWMwYjJlM2VkODUwZDQzZmU4ZTNlMTRkZjU', 'repository': 'webplatform', 'format': 'docker', 'group': None, 'name': 'webplatform-prod', 'version': '0.9', 'assets': [{'downloadUrl': 'https://nexus.fuchicorp.com/repository/webplatform/v2/webplatform-prod/manifests/0.9', 'path': 'v2/webplatform-prod/manifests/0.9', 'id': 'd2VicGxhdGZvcm06MzZlM2RlYzhkZTUyOGM5YjA3NTkyZjE4YjUxMWQ3OGI', 'repository': 'webplatform', 'format': 'docker', 'checksum': {'sha1': '76e0c448146b0a771d5ed55a31b159053016cd1a', 'sha256': 'c1c0f993aa070e1d35750ffbfc51ec1dce3f4c08faee2735f0672f44321d15bb'}}]}\n"
     ]
    }
   ],
   "source": [
    "import json \n",
    "\n",
    "with open('data.json') as file:\n",
    "    data = json.load(file)\n",
    "\n",
    "def print_my_data(integer):\n",
    "    print(data['items'][integer])\n",
    "    \n",
    "print_my_data(2)    "
   ]
  },
  {
   "cell_type": "code",
   "execution_count": 23,
   "metadata": {},
   "outputs": [],
   "source": [
    "def fin_repo():\n",
    "    reponame = input('please find the reponame? :')\n",
    "    for repo in data['items']:\n",
    "        if reponame == repo['name']:\n",
    "            print(repo['name'])\n",
    "    "
   ]
  },
  {
   "cell_type": "code",
   "execution_count": 24,
   "metadata": {},
   "outputs": [
    {
     "ename": "NameError",
     "evalue": "name 'find_repo' is not defined",
     "output_type": "error",
     "traceback": [
      "\u001b[0;31m---------------------------------------------------------------------------\u001b[0m",
      "\u001b[0;31mNameError\u001b[0m                                 Traceback (most recent call last)",
      "\u001b[0;32m<ipython-input-24-033275c39966>\u001b[0m in \u001b[0;36m<module>\u001b[0;34m\u001b[0m\n\u001b[0;32m----> 1\u001b[0;31m \u001b[0mfind_repo\u001b[0m\u001b[0;34m(\u001b[0m\u001b[0;34m)\u001b[0m\u001b[0;34m\u001b[0m\u001b[0m\n\u001b[0m",
      "\u001b[0;31mNameError\u001b[0m: name 'find_repo' is not defined"
     ]
    }
   ],
   "source": [
    "find_repo()"
   ]
  },
  {
   "cell_type": "code",
   "execution_count": 32,
   "metadata": {},
   "outputs": [],
   "source": [
    "def does_repo_exist(repo_name):\n",
    "    for repo in data['items']:\n",
    "        if repo_name == repo['name']:\n",
    "            print(repo)\n",
    "            break\n",
    "    else:\n",
    "        print('Repo not found')"
   ]
  },
  {
   "cell_type": "code",
   "execution_count": 33,
   "metadata": {},
   "outputs": [
    {
     "name": "stdout",
     "output_type": "stream",
     "text": [
      "{'id': 'd2VicGxhdGZvcm06Yzc3MDE2OWMwYjJlM2VkOGY2ZDY5ZjQzMWRmYzE4ODU', 'repository': 'webplatform', 'format': 'docker', 'group': None, 'name': 'webplatform-qa', 'version': '0.6', 'assets': [{'downloadUrl': 'https://nexus.fuchicorp.com/repository/webplatform/v2/webplatform-qa/manifests/0.6', 'path': 'v2/webplatform-qa/manifests/0.6', 'id': 'd2VicGxhdGZvcm06MzZlM2RlYzhkZTUyOGM5YjA2MjFjMGZiMDIyMDQyMzM', 'repository': 'webplatform', 'format': 'docker', 'checksum': {'sha1': '0e2792ff34433b42ba52449b4e1c20fe91b51c29', 'sha256': 'd58edae3c6ca96ea829287c662212eb5730d40fd9d8f271806acea67c0a7a602'}}]}\n"
     ]
    }
   ],
   "source": [
    "does_repo_exist('webplatform-qa')"
   ]
  },
  {
   "cell_type": "code",
   "execution_count": 34,
   "metadata": {},
   "outputs": [
    {
     "name": "stdout",
     "output_type": "stream",
     "text": [
      "Repo not found\n"
     ]
    }
   ],
   "source": [
    "does_repo_exist('webplatform')"
   ]
  },
  {
   "cell_type": "code",
   "execution_count": 37,
   "metadata": {},
   "outputs": [],
   "source": [
    "my_user_list = []\n",
    "for user_num in range(1,11):\n",
    "    my_user_list.append({\"username\": f'user-{user_num}',\n",
    "                         \"password\": None, \n",
    "                         \"status\": False})"
   ]
  },
  {
   "cell_type": "code",
   "execution_count": 38,
   "metadata": {},
   "outputs": [
    {
     "data": {
      "text/plain": [
       "[{'username': 'user-1', 'password': None, 'status': False},\n",
       " {'username': 'user-2', 'password': None, 'status': False},\n",
       " {'username': 'user-3', 'password': None, 'status': False},\n",
       " {'username': 'user-4', 'password': None, 'status': False},\n",
       " {'username': 'user-5', 'password': None, 'status': False},\n",
       " {'username': 'user-6', 'password': None, 'status': False},\n",
       " {'username': 'user-7', 'password': None, 'status': False},\n",
       " {'username': 'user-8', 'password': None, 'status': False},\n",
       " {'username': 'user-9', 'password': None, 'status': False},\n",
       " {'username': 'user-10', 'password': None, 'status': False}]"
      ]
     },
     "execution_count": 38,
     "metadata": {},
     "output_type": "execute_result"
    }
   ],
   "source": [
    "my_user_list"
   ]
  },
  {
   "cell_type": "code",
   "execution_count": 39,
   "metadata": {},
   "outputs": [
    {
     "name": "stdout",
     "output_type": "stream",
     "text": [
      "[{'username': 'user-1', 'password': None, 'status': False}, {'username': 'user-2', 'password': None, 'status': False}, {'username': 'user-3', 'password': None, 'status': False}, {'username': 'user-4', 'password': None, 'status': False}, {'username': 'user-5', 'password': None, 'status': False}, {'username': 'user-6', 'password': None, 'status': False}, {'username': 'user-7', 'password': None, 'status': False}, {'username': 'user-8', 'password': None, 'status': False}, {'username': 'user-9', 'password': None, 'status': False}, {'username': 'user-10', 'password': None, 'status': False}]\n"
     ]
    }
   ],
   "source": [
    "print(my_user_list)"
   ]
  },
  {
   "cell_type": "code",
   "execution_count": 42,
   "metadata": {},
   "outputs": [
    {
     "name": "stdout",
     "output_type": "stream",
     "text": [
      "[\n",
      "  {\n",
      "    \"username\": \"user-1\",\n",
      "    \"password\": null,\n",
      "    \"status\": false\n",
      "  },\n",
      "  {\n",
      "    \"username\": \"user-2\",\n",
      "    \"password\": null,\n",
      "    \"status\": false\n",
      "  },\n",
      "  {\n",
      "    \"username\": \"user-3\",\n",
      "    \"password\": null,\n",
      "    \"status\": false\n",
      "  },\n",
      "  {\n",
      "    \"username\": \"user-4\",\n",
      "    \"password\": null,\n",
      "    \"status\": false\n",
      "  },\n",
      "  {\n",
      "    \"username\": \"user-5\",\n",
      "    \"password\": null,\n",
      "    \"status\": false\n",
      "  },\n",
      "  {\n",
      "    \"username\": \"user-6\",\n",
      "    \"password\": null,\n",
      "    \"status\": false\n",
      "  },\n",
      "  {\n",
      "    \"username\": \"user-7\",\n",
      "    \"password\": null,\n",
      "    \"status\": false\n",
      "  },\n",
      "  {\n",
      "    \"username\": \"user-8\",\n",
      "    \"password\": null,\n",
      "    \"status\": false\n",
      "  },\n",
      "  {\n",
      "    \"username\": \"user-9\",\n",
      "    \"password\": null,\n",
      "    \"status\": false\n",
      "  },\n",
      "  {\n",
      "    \"username\": \"user-10\",\n",
      "    \"password\": null,\n",
      "    \"status\": false\n",
      "  }\n",
      "]\n"
     ]
    }
   ],
   "source": [
    "print(json.dumps(my_user_list, indent=2))"
   ]
  },
  {
   "cell_type": "code",
   "execution_count": 49,
   "metadata": {},
   "outputs": [],
   "source": [
    "with open('user_list.json', 'w') as my_file: \n",
    "     json.dump(my_user_list, my_file, indent=2)"
   ]
  },
  {
   "cell_type": "code",
   "execution_count": null,
   "metadata": {},
   "outputs": [],
   "source": []
  }
 ],
 "metadata": {
  "kernelspec": {
   "display_name": "Python 3",
   "language": "python",
   "name": "python3"
  },
  "language_info": {
   "codemirror_mode": {
    "name": "ipython",
    "version": 3
   },
   "file_extension": ".py",
   "mimetype": "text/x-python",
   "name": "python",
   "nbconvert_exporter": "python",
   "pygments_lexer": "ipython3",
   "version": "3.6.5"
  }
 },
 "nbformat": 4,
 "nbformat_minor": 2
}
