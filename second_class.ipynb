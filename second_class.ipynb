{
 "cells": [
  {
   "cell_type": "code",
   "execution_count": 2,
   "metadata": {},
   "outputs": [
    {
     "name": "stdout",
     "output_type": "stream",
     "text": [
      "Hello world!\n"
     ]
    }
   ],
   "source": [
    "print('Hello world!')"
   ]
  },
  {
   "cell_type": "code",
   "execution_count": 3,
   "metadata": {},
   "outputs": [
    {
     "name": "stdout",
     "output_type": "stream",
     "text": [
      "Help on built-in function dir in module builtins:\n",
      "\n",
      "dir(...)\n",
      "    dir([object]) -> list of strings\n",
      "    \n",
      "    If called without an argument, return the names in the current scope.\n",
      "    Else, return an alphabetized list of names comprising (some of) the attributes\n",
      "    of the given object, and of attributes reachable from it.\n",
      "    If the object supplies a method named __dir__, it will be used; otherwise\n",
      "    the default dir() logic is used and returns:\n",
      "      for a module object: the module's attributes.\n",
      "      for a class object:  its attributes, and recursively the attributes\n",
      "        of its bases.\n",
      "      for any other object: its attributes, its class's attributes, and\n",
      "        recursively the attributes of its class's base classes.\n",
      "\n"
     ]
    }
   ],
   "source": [
    "help(dir)"
   ]
  },
  {
   "cell_type": "code",
   "execution_count": 5,
   "metadata": {},
   "outputs": [
    {
     "data": {
      "text/plain": [
       "bool"
      ]
     },
     "execution_count": 5,
     "metadata": {},
     "output_type": "execute_result"
    }
   ],
   "source": [
    "var = True\n",
    "mystring = 'example'\n",
    "\n",
    "mystring is 'example'\n",
    "type(var)"
   ]
  },
  {
   "cell_type": "code",
   "execution_count": 6,
   "metadata": {},
   "outputs": [
    {
     "name": "stdout",
     "output_type": "stream",
     "text": [
      "1995\n"
     ]
    }
   ],
   "source": [
    "mynum = 1995\n",
    "type(mynum)\n",
    "print(mynum)"
   ]
  },
  {
   "cell_type": "code",
   "execution_count": 7,
   "metadata": {},
   "outputs": [
    {
     "name": "stdout",
     "output_type": "stream",
     "text": [
      "24\n"
     ]
    }
   ],
   "source": [
    "mynum = 1995\n",
    "\n",
    "now = 2019\n",
    "myage = now - mynum\n",
    "print(myage)\n"
   ]
  },
  {
   "cell_type": "code",
   "execution_count": 9,
   "metadata": {},
   "outputs": [
    {
     "data": {
      "text/plain": [
       "float"
      ]
     },
     "execution_count": 9,
     "metadata": {},
     "output_type": "execute_result"
    }
   ],
   "source": [
    "mynum = 1995\n",
    "\n",
    "now = 2019\n",
    "myfloat = 1.4\n",
    "type(myfloat)"
   ]
  },
  {
   "cell_type": "code",
   "execution_count": 11,
   "metadata": {},
   "outputs": [
    {
     "name": "stdout",
     "output_type": "stream",
     "text": [
      "3\n"
     ]
    }
   ],
   "source": [
    "mynum = 1995\n",
    "data = range (1,10)\n",
    "print(data[2])"
   ]
  },
  {
   "cell_type": "code",
   "execution_count": 14,
   "metadata": {},
   "outputs": [
    {
     "name": "stdout",
     "output_type": "stream",
     "text": [
      "5\n"
     ]
    }
   ],
   "source": [
    "mynum = '1995' \n",
    "print(mynum[3])"
   ]
  },
  {
   "cell_type": "code",
   "execution_count": 16,
   "metadata": {},
   "outputs": [
    {
     "name": "stdout",
     "output_type": "stream",
     "text": [
      "['Abdul', 'Farkhod']\n"
     ]
    }
   ],
   "source": [
    "# bool str int float\n",
    "\n",
    "users = ['Abdul']\n",
    "users.append('Farkhod')\n",
    "print(users)\n"
   ]
  },
  {
   "cell_type": "code",
   "execution_count": 17,
   "metadata": {},
   "outputs": [
    {
     "name": "stdout",
     "output_type": "stream",
     "text": [
      "['Abdul', 'Farkhod', True, True]\n"
     ]
    }
   ],
   "source": [
    "# bool str int float\n",
    "\n",
    "users = ['Abdul']\n",
    "users.append('Farkhod')\n",
    "users.append(True)\n",
    "users.append(True)\n",
    "print(users)\n",
    "\n"
   ]
  },
  {
   "cell_type": "code",
   "execution_count": 18,
   "metadata": {},
   "outputs": [
    {
     "name": "stdout",
     "output_type": "stream",
     "text": [
      "['Abdul', 'Franky', 'Madina', 'Makpal']\n",
      "['Abdul', 'Franky', 'Madina', 'Makpal', 'example string']\n",
      "['Abdul', 'Franky', 'Madina', 'Makpal', 'example string', 'example string']\n",
      "None\n"
     ]
    }
   ],
   "source": [
    "# bool str int float\n",
    "\n",
    "users = ['Abdul']\n",
    "#users.append('Farkhod')\n",
    "users.append('Franky')\n",
    "users.append('Madina')\n",
    "users.append('Makpal')\n",
    "print(users)\n",
    "\n",
    "users.append('example string')\n",
    "print(users)\n",
    "\n",
    "users.append('example string')\n",
    "print(users)\n",
    "\n",
    "\n",
    "print(users.sort())\n",
    "\n",
    "\n",
    "\n"
   ]
  },
  {
   "cell_type": "code",
   "execution_count": 20,
   "metadata": {},
   "outputs": [
    {
     "name": "stdout",
     "output_type": "stream",
     "text": [
      "['Abdul', 'Franky', 'Madina', 'Makpal']\n",
      "None\n"
     ]
    }
   ],
   "source": [
    "users = ['Abdul']\n",
    "users.append('Franky')\n",
    "users.append('Madina')\n",
    "users.append('Makpal')\n",
    "print(users)\n",
    "\n",
    "print(users.clear())\n",
    "\n"
   ]
  },
  {
   "cell_type": "code",
   "execution_count": 21,
   "metadata": {},
   "outputs": [
    {
     "name": "stdout",
     "output_type": "stream",
     "text": [
      "['Leila', 'Leila', 'Leila', 'Leila']\n",
      "4\n"
     ]
    }
   ],
   "source": [
    "users = ['Leila']\n",
    "users.append('Leila')\n",
    "users.append('Leila')\n",
    "users.append('Leila')\n",
    "print(users)\n",
    "\n",
    "print(users.count('Leila'))"
   ]
  },
  {
   "cell_type": "code",
   "execution_count": 23,
   "metadata": {},
   "outputs": [
    {
     "name": "stdout",
     "output_type": "stream",
     "text": [
      "['Leila', 'Madina', 'Leila', 'Leila', 'Janna']\n",
      "['Leila', 'Madina', 'Leila', 'Leila']\n"
     ]
    }
   ],
   "source": [
    "users = ['Leila']\n",
    "users.append('Madina')\n",
    "users.append('Leila')\n",
    "users.append('Leila')\n",
    "users.append('Janna')\n",
    "print(users)\n",
    "#print(users.count('Anna'))\n",
    "\n",
    "users.pop()\n",
    "#users.remove('Anna')\n",
    "print(users)"
   ]
  },
  {
   "cell_type": "code",
   "execution_count": 26,
   "metadata": {},
   "outputs": [],
   "source": [
    "#defining key values of an orange image - as used in class example:\n",
    "mydict = { 'type': 'fruit', 'color': 'orange'}"
   ]
  },
  {
   "cell_type": "code",
   "execution_count": 28,
   "metadata": {},
   "outputs": [
    {
     "name": "stdout",
     "output_type": "stream",
     "text": [
      "{'type': 'fruit', 'color': 'orange', 'count': 1}\n"
     ]
    }
   ],
   "source": [
    "mydict = { 'type': 'fruit', 'color': 'orange'}\n",
    "mydict['count'] = 1\n",
    "\n",
    "print(mydict)\n"
   ]
  },
  {
   "cell_type": "code",
   "execution_count": 29,
   "metadata": {},
   "outputs": [
    {
     "name": "stdout",
     "output_type": "stream",
     "text": [
      "{'type': 'fruit', 'color': 'orange', 'count': 1}\n"
     ]
    }
   ],
   "source": [
    "mydict = { 'type': 'fruit', 'color': 'orange'}\n",
    "mydict['count'] = 1\n",
    "\n",
    "mylist = mydict.values()\n",
    "print(mydict)\n",
    "\n"
   ]
  },
  {
   "cell_type": "code",
   "execution_count": 30,
   "metadata": {},
   "outputs": [
    {
     "data": {
      "text/plain": [
       "True"
      ]
     },
     "execution_count": 30,
     "metadata": {},
     "output_type": "execute_result"
    }
   ],
   "source": [
    "mydict = {'type': 'Fruit', 'color':'orange'}\n",
    "mydict['count'] = 1\n",
    "\n",
    "\n",
    "mydict['type'] is 'Fruit'"
   ]
  },
  {
   "cell_type": "code",
   "execution_count": 32,
   "metadata": {},
   "outputs": [
    {
     "name": "stdout",
     "output_type": "stream",
     "text": [
      "orange\n"
     ]
    }
   ],
   "source": [
    "mydict ={'type':'Fruit', 'color': 'orange'}\n",
    "print(mydict['color'])         "
   ]
  },
  {
   "cell_type": "code",
   "execution_count": 35,
   "metadata": {},
   "outputs": [
    {
     "name": "stdout",
     "output_type": "stream",
     "text": [
      "Orange Fruit\n"
     ]
    }
   ],
   "source": [
    "mydict ={'type':'Fruit', 'color': 'Orange'}\n",
    "print(mydict['color']  + ' ' + mydict['type'])"
   ]
  },
  {
   "cell_type": "code",
   "execution_count": 36,
   "metadata": {},
   "outputs": [
    {
     "name": "stdout",
     "output_type": "stream",
     "text": [
      "{'type': 'Fruit', 'color': 'Red', 'count': 1}\n"
     ]
    }
   ],
   "source": [
    "mydict ={'type':'Fruit', 'color': 'Orange'}\n",
    "mydict['color'] = 'Red'\n",
    "mydict['count'] = 1\n",
    "\n",
    "print(mydict)"
   ]
  },
  {
   "cell_type": "code",
   "execution_count": 38,
   "metadata": {},
   "outputs": [
    {
     "name": "stdout",
     "output_type": "stream",
     "text": [
      "dict_keys(['type', 'color', 'count'])\n",
      "dict_values(['Fruit', 'Red', 1])\n"
     ]
    }
   ],
   "source": [
    "##to get keys you will need to add.keys at the end, see example:\n",
    "\n",
    "mydict = {'type':'Fruit', 'color': 'Orange', 'count': 1}\n",
    "mydict['color'] = 'Red'\n",
    "mydict['count'] = 1\n",
    "\n",
    "print(mydict.keys())\n",
    "print(mydict.values())\n"
   ]
  },
  {
   "cell_type": "code",
   "execution_count": 39,
   "metadata": {},
   "outputs": [
    {
     "name": "stdout",
     "output_type": "stream",
     "text": [
      "{'mydata': 'example'}\n",
      "dict_keys(['type', 'color', 'count'])\n",
      "dict_values(['Fruit', 'Red', 1])\n"
     ]
    }
   ],
   "source": [
    "mydict = {'type':'Fruit', 'color': 'Orange', 'count': 1}\n",
    "mydict['color'] = 'Red'\n",
    "mydict['count'] = 1\n",
    "\n",
    "\n",
    "my_second_dict = dict(mydata='example')\n",
    "print(my_second_dict)\n",
    "\n",
    "print(mydict.keys())\n",
    "print(mydict.values())"
   ]
  },
  {
   "cell_type": "code",
   "execution_count": 40,
   "metadata": {},
   "outputs": [
    {
     "name": "stdout",
     "output_type": "stream",
     "text": [
      "['data1', 'data2', 'data3', 'data4']\n",
      "{'username': 'makpal', 'firstname': 'Makpal', 'lastname': 'Aitkazinova'}\n"
     ]
    }
   ],
   "source": [
    "#mydict = {'type':'Fruit', 'color': 'Orange', 'count': 1}\n",
    "#mydict['color'] = 'Red'\n",
    "#mydict['count'] = 1\n",
    "\n",
    "\n",
    "#my_second_dict = dict(mydata='example')\n",
    "#print(my_second_dict)\n",
    "\n",
    "#print(mydict.keys())\n",
    "#print(mydict.values())\n",
    "\n",
    "user = dict(username='makpal', firstname='Makpal', lastname='Aitkazinova')\n",
    "mylist = list(['data1', 'data2', 'data3', 'data4'])\n",
    "\n",
    "print(mylist)\n",
    "print(user)"
   ]
  },
  {
   "cell_type": "code",
   "execution_count": null,
   "metadata": {},
   "outputs": [],
   "source": []
  }
 ],
 "metadata": {
  "kernelspec": {
   "display_name": "Python 3",
   "language": "python",
   "name": "python3"
  },
  "language_info": {
   "codemirror_mode": {
    "name": "ipython",
    "version": 3
   },
   "file_extension": ".py",
   "mimetype": "text/x-python",
   "name": "python",
   "nbconvert_exporter": "python",
   "pygments_lexer": "ipython3",
   "version": "3.6.5"
  }
 },
 "nbformat": 4,
 "nbformat_minor": 2
}
