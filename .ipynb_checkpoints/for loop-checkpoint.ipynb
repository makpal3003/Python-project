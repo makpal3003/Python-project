{
 "cells": [
  {
   "cell_type": "code",
   "execution_count": 1,
   "metadata": {},
   "outputs": [
    {
     "name": "stdout",
     "output_type": "stream",
     "text": [
      "abdul\n",
      "Nadire\n",
      "Zhanna\n"
     ]
    }
   ],
   "source": [
    "users = ['abdul', 'Nadire', 'Zhanna']\n",
    "for user in users:\n",
    "    print(user)"
   ]
  },
  {
   "cell_type": "code",
   "execution_count": 2,
   "metadata": {},
   "outputs": [
    {
     "name": "stdout",
     "output_type": "stream",
     "text": [
      "1 Hello\n",
      "2 Hello\n",
      "3 Hello\n"
     ]
    }
   ],
   "source": [
    "users = ['abdul', 'Nadire', 'Zhanna']\n",
    "#for user in users:\n",
    " #   print(user)\n",
    "\n",
    "for example in range(1, 4):\n",
    "    print (example, \"Hello\")"
   ]
  },
  {
   "cell_type": "code",
   "execution_count": 3,
   "metadata": {},
   "outputs": [
    {
     "name": "stdout",
     "output_type": "stream",
     "text": [
      "[{'avatar': 'https://s3.amazonaws.com/uifaces/faces/twitter/marcoramires/128.jpg', 'first_name': 'Eve', 'id': 4, 'last_name': 'Holt'}, {'avatar': 'https://s3.amazonaws.com/uifaces/faces/twitter/stephenmoon/128.jpg', 'first_name': 'Charles', 'id': 5, 'last_name': 'Morris'}, {'avatar': 'https://s3.amazonaws.com/uifaces/faces/twitter/bigmancho/128.jpg', 'first_name': 'Tracey', 'id': 6, 'last_name': 'Ramos'}]\n"
     ]
    }
   ],
   "source": [
    "data = [\n",
    "    {\n",
    "    \"avatar\": \"https://s3.amazonaws.com/uifaces/faces/twitter/marcoramires/128.jpg\",\n",
    "    \"first_name\": \"Eve\",\n",
    "    \"id\": 4,\n",
    "    \"last_name\": \"Holt\"\n",
    "    },\n",
    "    {\n",
    "    \"avatar\": \"https://s3.amazonaws.com/uifaces/faces/twitter/stephenmoon/128.jpg\",\n",
    "    \"first_name\": \"Charles\",\n",
    "    \"id\": 5,\n",
    "    \"last_name\": \"Morris\"\n",
    "    },\n",
    "    {\n",
    "    \"avatar\": \"https://s3.amazonaws.com/uifaces/faces/twitter/bigmancho/128.jpg\",\n",
    "    \"first_name\": \"Tracey\",\n",
    "    \"id\": 6,\n",
    "    \"last_name\": \"Ramos\"\n",
    "    }\n",
    "]\n",
    "\n",
    "print(data)\n"
   ]
  },
  {
   "cell_type": "code",
   "execution_count": 4,
   "metadata": {},
   "outputs": [
    {
     "name": "stdout",
     "output_type": "stream",
     "text": [
      "{'avatar': 'https://s3.amazonaws.com/uifaces/faces/twitter/marcoramires/128.jpg', 'first_name': 'Eve', 'id': 4, 'last_name': 'Holt'}\n"
     ]
    }
   ],
   "source": [
    "data = [\n",
    "    {\n",
    "    \"avatar\": \"https://s3.amazonaws.com/uifaces/faces/twitter/marcoramires/128.jpg\",\n",
    "    \"first_name\": \"Eve\",\n",
    "    \"id\": 4,\n",
    "    \"last_name\": \"Holt\"\n",
    "    },\n",
    "    {\n",
    "    \"avatar\": \"https://s3.amazonaws.com/uifaces/faces/twitter/stephenmoon/128.jpg\",\n",
    "    \"first_name\": \"Charles\",\n",
    "    \"id\": 5,\n",
    "    \"last_name\": \"Morris\"\n",
    "    },\n",
    "    {\n",
    "    \"avatar\": \"https://s3.amazonaws.com/uifaces/faces/twitter/bigmancho/128.jpg\",\n",
    "    \"first_name\": \"Tracey\",\n",
    "    \"id\": 6,\n",
    "    \"last_name\": \"Ramos\"\n",
    "    }\n",
    "]\n",
    "\n",
    "print(data[0])"
   ]
  },
  {
   "cell_type": "code",
   "execution_count": 5,
   "metadata": {},
   "outputs": [
    {
     "name": "stdout",
     "output_type": "stream",
     "text": [
      "{'avatar': 'https://s3.amazonaws.com/uifaces/faces/twitter/stephenmoon/128.jpg', 'first_name': 'Charles', 'id': 5, 'last_name': 'Morris'}\n"
     ]
    }
   ],
   "source": [
    "data = [\n",
    "    {\n",
    "    \"avatar\": \"https://s3.amazonaws.com/uifaces/faces/twitter/marcoramires/128.jpg\",\n",
    "    \"first_name\": \"Eve\",\n",
    "    \"id\": 4,\n",
    "    \"last_name\": \"Holt\"\n",
    "    },\n",
    "    {\n",
    "    \"avatar\": \"https://s3.amazonaws.com/uifaces/faces/twitter/stephenmoon/128.jpg\",\n",
    "    \"first_name\": \"Charles\",\n",
    "    \"id\": 5,\n",
    "    \"last_name\": \"Morris\"\n",
    "    },\n",
    "    {\n",
    "    \"avatar\": \"https://s3.amazonaws.com/uifaces/faces/twitter/bigmancho/128.jpg\",\n",
    "    \"first_name\": \"Tracey\",\n",
    "    \"id\": 6,\n",
    "    \"last_name\": \"Ramos\"\n",
    "    }\n",
    "]\n",
    "\n",
    "print(data[1])\n",
    "\n"
   ]
  },
  {
   "cell_type": "code",
   "execution_count": 6,
   "metadata": {},
   "outputs": [
    {
     "name": "stdout",
     "output_type": "stream",
     "text": [
      "{'avatar': 'https://s3.amazonaws.com/uifaces/faces/twitter/marcoramires/128.jpg', 'first_name': 'Eve', 'id': 4, 'last_name': 'Holt'}\n",
      "{'avatar': 'https://s3.amazonaws.com/uifaces/faces/twitter/stephenmoon/128.jpg', 'first_name': 'Charles', 'id': 5, 'last_name': 'Morris'}\n",
      "{'avatar': 'https://s3.amazonaws.com/uifaces/faces/twitter/bigmancho/128.jpg', 'first_name': 'Tracey', 'id': 6, 'last_name': 'Ramos'}\n"
     ]
    }
   ],
   "source": [
    "data = [\n",
    "    {\n",
    "    \"avatar\": \"https://s3.amazonaws.com/uifaces/faces/twitter/marcoramires/128.jpg\",\n",
    "    \"first_name\": \"Eve\",\n",
    "    \"id\": 4,\n",
    "    \"last_name\": \"Holt\"\n",
    "    },\n",
    "    {\n",
    "    \"avatar\": \"https://s3.amazonaws.com/uifaces/faces/twitter/stephenmoon/128.jpg\",\n",
    "    \"first_name\": \"Charles\",\n",
    "    \"id\": 5,\n",
    "    \"last_name\": \"Morris\"\n",
    "    },\n",
    "    {\n",
    "    \"avatar\": \"https://s3.amazonaws.com/uifaces/faces/twitter/bigmancho/128.jpg\",\n",
    "    \"first_name\": \"Tracey\",\n",
    "    \"id\": 6,\n",
    "    \"last_name\": \"Ramos\"\n",
    "    }\n",
    "]\n",
    "\n",
    "for user in data:\n",
    "    print(user)"
   ]
  },
  {
   "cell_type": "code",
   "execution_count": 7,
   "metadata": {},
   "outputs": [
    {
     "name": "stdout",
     "output_type": "stream",
     "text": [
      "{'avatar': 'https://s3.amazonaws.com/uifaces/faces/twitter/stephenmoon/128.jpg', 'first_name': 'Charles', 'id': 5, 'last_name': 'Morris'}\n"
     ]
    }
   ],
   "source": [
    "data = [\n",
    "    {\n",
    "    \"avatar\": \"https://s3.amazonaws.com/uifaces/faces/twitter/marcoramires/128.jpg\",\n",
    "    \"first_name\": \"Eve\",\n",
    "    \"id\": 4,\n",
    "    \"last_name\": \"Holt\"\n",
    "    },\n",
    "    {\n",
    "    \"avatar\": \"https://s3.amazonaws.com/uifaces/faces/twitter/stephenmoon/128.jpg\",\n",
    "    \"first_name\": \"Charles\",\n",
    "    \"id\": 5,\n",
    "    \"last_name\": \"Morris\"\n",
    "    },\n",
    "    {\n",
    "    \"avatar\": \"https://s3.amazonaws.com/uifaces/faces/twitter/bigmancho/128.jpg\",\n",
    "    \"first_name\": \"Tracey\",\n",
    "    \"id\": 6,\n",
    "    \"last_name\": \"Ramos\"\n",
    "    }\n",
    "]\n",
    "\n",
    "for user in data:\n",
    "    if user['first_name'] == 'Charles':\n",
    "        print(user)\n"
   ]
  },
  {
   "cell_type": "code",
   "execution_count": 8,
   "metadata": {},
   "outputs": [
    {
     "name": "stdout",
     "output_type": "stream",
     "text": [
      "Hello\n"
     ]
    }
   ],
   "source": [
    "data = [\n",
    "    {\n",
    "    \"avatar\": \"https://s3.amazonaws.com/uifaces/faces/twitter/marcoramires/128.jpg\",\n",
    "    \"first_name\": \"Eve\",\n",
    "    \"id\": 4,\n",
    "    \"last_name\": \"Holt\"\n",
    "    },\n",
    "    {\n",
    "    \"avatar\": \"https://s3.amazonaws.com/uifaces/faces/twitter/stephenmoon/128.jpg\",\n",
    "    \"first_name\": \"Charles\",\n",
    "    \"id\": 5,\n",
    "    \"last_name\": \"Morris\"\n",
    "    },\n",
    "    {\n",
    "    \"avatar\": \"https://s3.amazonaws.com/uifaces/faces/twitter/bigmancho/128.jpg\",\n",
    "    \"first_name\": \"Tracey\",\n",
    "    \"id\": 6,\n",
    "    \"last_name\": \"Ramos\"\n",
    "    }\n",
    "]\n",
    "\n",
    "while True:\n",
    "    print('Hello')\n",
    "    break"
   ]
  },
  {
   "cell_type": "code",
   "execution_count": 9,
   "metadata": {},
   "outputs": [
    {
     "name": "stdout",
     "output_type": "stream",
     "text": [
      "This is my string\n",
      "T\n",
      "h\n",
      "i\n",
      "s\n",
      " \n",
      "i\n",
      "s\n",
      " \n",
      "m\n",
      "y\n",
      " \n",
      "s\n",
      "t\n",
      "r\n",
      "i\n",
      "n\n",
      "g\n"
     ]
    }
   ],
   "source": [
    "my_string = 'This is my string'\n",
    "print(my_string)\n",
    "for item in my_string:\n",
    "    print(item)"
   ]
  },
  {
   "cell_type": "code",
   "execution_count": 10,
   "metadata": {},
   "outputs": [
    {
     "name": "stdout",
     "output_type": "stream",
     "text": [
      "This is my string\n",
      "Yes it is\n"
     ]
    }
   ],
   "source": [
    "my_string = 'This is my string'\n",
    "print(my_string)   \n",
    "if 'This' in my_string:\n",
    "    print('Yes it is')"
   ]
  },
  {
   "cell_type": "code",
   "execution_count": 11,
   "metadata": {},
   "outputs": [
    {
     "name": "stdout",
     "output_type": "stream",
     "text": [
      "Yes it is\n"
     ]
    }
   ],
   "source": [
    "my_string = 'This is my string'\n",
    "\n",
    "for item in my_string.split(' '):\n",
    "    if 'This' == item:\n",
    "        print('Yes it is')"
   ]
  },
  {
   "cell_type": "code",
   "execution_count": 12,
   "metadata": {},
   "outputs": [
    {
     "name": "stdout",
     "output_type": "stream",
     "text": [
      "This\n",
      "is\n",
      "my\n",
      "string\n"
     ]
    }
   ],
   "source": [
    "my_string = 'This is my string'\n",
    "\n",
    "for item in my_string.split(' '):\n",
    "    print(item)"
   ]
  },
  {
   "cell_type": "code",
   "execution_count": 13,
   "metadata": {},
   "outputs": [
    {
     "name": "stdout",
     "output_type": "stream",
     "text": [
      " Create instance with tag example-0\n",
      " Create instance with tag example-1\n",
      " Create instance with tag example-2\n",
      " Create instance with tag example-3\n"
     ]
    }
   ],
   "source": [
    "for tagname in range(0, 4):\n",
    "    print(f' Create instance with tag example-{tagname}')"
   ]
  },
  {
   "cell_type": "code",
   "execution_count": 14,
   "metadata": {},
   "outputs": [
    {
     "name": "stdout",
     "output_type": "stream",
     "text": [
      "{'avatar': 'https://s3.amazonaws.com/uifaces/faces/twitter/stephenmoon/128.jpg', 'first_name': 'Charles', 'id': 5, 'last_name': 'Morris'}\n"
     ]
    }
   ],
   "source": [
    "data = [\n",
    "    {\n",
    "    \"avatar\": \"https://s3.amazonaws.com/uifaces/faces/twitter/marcoramires/128.jpg\",\n",
    "    \"first_name\": \"Eve\",\n",
    "    \"id\": 4,\n",
    "    \"last_name\": \"Holt\"\n",
    "    },\n",
    "    {\n",
    "    \"avatar\": \"https://s3.amazonaws.com/uifaces/faces/twitter/stephenmoon/128.jpg\",\n",
    "    \"first_name\": \"Charles\",\n",
    "    \"id\": 5,\n",
    "    \"last_name\": \"Morris\"\n",
    "    },\n",
    "    {\n",
    "    \"avatar\": \"https://s3.amazonaws.com/uifaces/faces/twitter/bigmancho/128.jpg\",\n",
    "    \"first_name\": \"Tracey\",\n",
    "    \"id\": 6,\n",
    "    \"last_name\": \"Ramos\"\n",
    "    }\n",
    "]\n",
    "\n",
    "\n",
    "filteredList = []\n",
    "for user in data:\n",
    "    if user['first_name']  == 'Charles':\n",
    "        print(user)"
   ]
  },
  {
   "cell_type": "code",
   "execution_count": 15,
   "metadata": {},
   "outputs": [
    {
     "name": "stdout",
     "output_type": "stream",
     "text": [
      "Anna\n",
      "Zhanna\n",
      "Abdul\n",
      "Alibek\n"
     ]
    }
   ],
   "source": [
    "import os\n",
    "users = ['Anna', 'Zhanna', 'Abdul', 'Alibek']\n",
    "for user in users:\n",
    "    print(user)\n",
    "    os.system(f'useradd {user}')"
   ]
  },
  {
   "cell_type": "code",
   "execution_count": 16,
   "metadata": {},
   "outputs": [
    {
     "name": "stdout",
     "output_type": "stream",
     "text": [
      "root:x:0:0:root:/root:/bin/bash\r\n",
      "bin:x:1:1:bin:/bin:/sbin/nologin\r\n",
      "daemon:x:2:2:daemon:/sbin:/sbin/nologin\r\n",
      "adm:x:3:4:adm:/var/adm:/sbin/nologin\r\n",
      "lp:x:4:7:lp:/var/spool/lpd:/sbin/nologin\r\n",
      "sync:x:5:0:sync:/sbin:/bin/sync\r\n",
      "shutdown:x:6:0:shutdown:/sbin:/sbin/shutdown\r\n",
      "halt:x:7:0:halt:/sbin:/sbin/halt\r\n",
      "mail:x:8:12:mail:/var/spool/mail:/sbin/nologin\r\n",
      "operator:x:11:0:operator:/root:/sbin/nologin\r\n",
      "games:x:12:100:games:/usr/games:/sbin/nologin\r\n",
      "ftp:x:14:50:FTP User:/var/ftp:/sbin/nologin\r\n",
      "nobody:x:99:99:Nobody:/:/sbin/nologin\r\n",
      "systemd-network:x:192:192:systemd Network Management:/:/sbin/nologin\r\n",
      "dbus:x:81:81:System message bus:/:/sbin/nologin\r\n",
      "Anna:x:1000:1000::/home/Anna:/bin/bash\r\n",
      "Zhanna:x:1001:1001::/home/Zhanna:/bin/bash\r\n",
      "Abdul:x:1002:1002::/home/Abdul:/bin/bash\r\n",
      "Alibek:x:1003:1003::/home/Alibek:/bin/bash\r\n"
     ]
    }
   ],
   "source": [
    "!cat /etc/passwd"
   ]
  },
  {
   "cell_type": "code",
   "execution_count": 17,
   "metadata": {},
   "outputs": [
    {
     "name": "stdout",
     "output_type": "stream",
     "text": [
      "Anna\n",
      "Zhanna\n",
      "Abdul\n",
      "Alibek\n"
     ]
    }
   ],
   "source": [
    "import os\n",
    "users = ['Anna', 'Zhanna', 'Abdul', 'Alibek']\n",
    "for user in users:\n",
    "    print(user)\n",
    "    os.system(f'mkdir /{user}')"
   ]
  },
  {
   "cell_type": "code",
   "execution_count": 18,
   "metadata": {},
   "outputs": [
    {
     "name": "stdout",
     "output_type": "stream",
     "text": [
      "\u001b[0m\u001b[01;34mAbdul\u001b[0m/   anaconda-post.log  \u001b[01;34mhome\u001b[0m/               \u001b[01;34mmakpal\u001b[0m/      \u001b[01;34mopt\u001b[0m/   \u001b[01;36msbin\u001b[0m@  \u001b[01;34musr\u001b[0m/\r\n",
      "\u001b[01;34mAlibek\u001b[0m/  \u001b[01;36mbin\u001b[0m@               \u001b[01;32mjupyter-runner.py\u001b[0m*  \u001b[01;34mmakpal3003\u001b[0m/  \u001b[01;34mproc\u001b[0m/  \u001b[01;34msrv\u001b[0m/   \u001b[01;34mvar\u001b[0m/\r\n",
      "\u001b[01;34mAnna\u001b[0m/    \u001b[01;34mdev\u001b[0m/               \u001b[01;36mlib\u001b[0m@                \u001b[01;34mmedia\u001b[0m/       \u001b[01;34mroot\u001b[0m/  \u001b[01;34msys\u001b[0m/\r\n",
      "\u001b[01;34mZhanna\u001b[0m/  \u001b[01;34metc\u001b[0m/               \u001b[01;36mlib64\u001b[0m@              \u001b[01;34mmnt\u001b[0m/         \u001b[01;34mrun\u001b[0m/   \u001b[30;42mtmp\u001b[0m/\r\n"
     ]
    }
   ],
   "source": [
    "ls /"
   ]
  },
  {
   "cell_type": "code",
   "execution_count": 19,
   "metadata": {},
   "outputs": [
    {
     "name": "stdout",
     "output_type": "stream",
     "text": [
      "Anna\n",
      "Zhanna\n",
      "Abdul\n",
      "Alibek\n"
     ]
    }
   ],
   "source": [
    "import os\n",
    "users = ['Anna', 'Zhanna', 'Abdul', 'Alibek']\n",
    "for user in users:\n",
    "    print(user)\n",
    "    os.system(f'rm -rf /{user}')"
   ]
  },
  {
   "cell_type": "code",
   "execution_count": 20,
   "metadata": {},
   "outputs": [
    {
     "name": "stdout",
     "output_type": "stream",
     "text": [
      "anaconda-post.log  \u001b[0m\u001b[01;34mhome\u001b[0m/               \u001b[01;34mmakpal\u001b[0m/      \u001b[01;34mopt\u001b[0m/   \u001b[01;36msbin\u001b[0m@  \u001b[01;34musr\u001b[0m/\r\n",
      "\u001b[01;36mbin\u001b[0m@               \u001b[01;32mjupyter-runner.py\u001b[0m*  \u001b[01;34mmakpal3003\u001b[0m/  \u001b[01;34mproc\u001b[0m/  \u001b[01;34msrv\u001b[0m/   \u001b[01;34mvar\u001b[0m/\r\n",
      "\u001b[01;34mdev\u001b[0m/               \u001b[01;36mlib\u001b[0m@                \u001b[01;34mmedia\u001b[0m/       \u001b[01;34mroot\u001b[0m/  \u001b[01;34msys\u001b[0m/\r\n",
      "\u001b[01;34metc\u001b[0m/               \u001b[01;36mlib64\u001b[0m@              \u001b[01;34mmnt\u001b[0m/         \u001b[01;34mrun\u001b[0m/   \u001b[30;42mtmp\u001b[0m/\r\n"
     ]
    }
   ],
   "source": [
    "ls /"
   ]
  },
  {
   "cell_type": "code",
   "execution_count": 21,
   "metadata": {},
   "outputs": [
    {
     "name": "stdout",
     "output_type": "stream",
     "text": [
      "Anna\n",
      "Zhanna\n",
      "Abdul\n",
      "Alibek\n"
     ]
    }
   ],
   "source": [
    "import os\n",
    "users = ['Anna', 'Zhanna', 'Abdul', 'Alibek']\n",
    "my_pub_key = 'ssh-rsa AAAAB3NzaC1yc2EAAAADAQABAAABAQDHThalyM3uM5TWKttnQUL3eRfEOK4TnFkuHlIL7UXNn34PwnPYULJukewmzk4IE+PNl/flS+PC6SJyQ3zcYUufDRZihvOvkvuTEHCNoN5fkKPASCRiwIyXZoYKGxFG6r0r9bsDtleuVL94Li9fhi5QOakUHwC74+GxoFKYBXvybdDIuCV1F2PQ38wkdDUTCoRxX1P8yTzSeN9VSIROxYrR7DdQw5dd1sVfOJgO0QckFSXoBIv09f66zBQE9D6AbQwi63EPfYInMTxLgHagraRROnYx0IezwQUrd2X/OQEpqGu7/rAIiqru0V4+JKDoPD0Ydl1c0OzTJELY8ZxIX1zh fsadykov@Fs-MacBook-Pro.local'\n",
    "for user in users:\n",
    "    print(user)\n",
    "    os.system(f'useradd {user}')\n",
    "    os.system(f'mkdir  /home/{user}/.ssh')\n",
    "    os.system(f'echo {my_pub_key}  >>  /home/{user}/.ssh/authorized_keys')"
   ]
  },
  {
   "cell_type": "code",
   "execution_count": 22,
   "metadata": {},
   "outputs": [
    {
     "name": "stdout",
     "output_type": "stream",
     "text": [
      "User can not found\n"
     ]
    }
   ],
   "source": [
    "for user in data:\n",
    "    if 'Farkhod' == user['first_name']:\n",
    "        print('User found')\n",
    "else:\n",
    "    print('User can not found')"
   ]
  },
  {
   "cell_type": "code",
   "execution_count": 23,
   "metadata": {},
   "outputs": [
    {
     "name": "stdout",
     "output_type": "stream",
     "text": [
      "#####################################################\n",
      "## abdulsharif\n"
     ]
    }
   ],
   "source": [
    "student = {'username' : 'abdulsharif', \n",
    "          'passwoord' : 'redhat',\n",
    "          'classes' : ['Python', 'Jenkins', 'Ansible']}\n",
    "print('#####################################################')\n",
    "print(f'## {student[\"username\"]}')"
   ]
  },
  {
   "cell_type": "code",
   "execution_count": 24,
   "metadata": {},
   "outputs": [
    {
     "name": "stdout",
     "output_type": "stream",
     "text": [
      "#####################################################\n",
      "## abdulsharif\n",
      "Python\n",
      "Jenkins\n",
      "Ansible\n"
     ]
    }
   ],
   "source": [
    "student = {'username' : 'abdulsharif', \n",
    "          'passwoord' : 'redhat',\n",
    "          'classes' : ['Python', 'Jenkins', 'Ansible']}\n",
    "print('#####################################################')\n",
    "print(f'## {student[\"username\"]}')\n",
    "for item in student['classes']:\n",
    "      print(item)\n"
   ]
  },
  {
   "cell_type": "code",
   "execution_count": 25,
   "metadata": {},
   "outputs": [
    {
     "name": "stdout",
     "output_type": "stream",
     "text": [
      "Please enter Full Name : Makpal\n",
      "Please enter username : Makpal\n",
      "Please enter password : 1234\n",
      "User has been created!\n",
      "Do you want to stop it? yes/no : no\n",
      "Please enter Full Name : Makpal\n",
      "Please enter username : Makpal\n",
      "Please enter password : 1234\n",
      "User has been created!\n",
      "Do you want to stop it? yes/no : yes\n",
      "Bye !!! \n"
     ]
    }
   ],
   "source": [
    "database = []\n",
    "while True:\n",
    "    studentObject = {}\n",
    "    studentObject['full_name'] = input('Please enter Full Name : ')\n",
    "    studentObject['username'] = input('Please enter username : ')\n",
    "    studentObject['password'] = input('Please enter password : ')\n",
    "    database.append(studentObject)\n",
    "    print('User has been created!')\n",
    "    answer = input('Do you want to stop it? yes/no : ')\n",
    "    if answer == 'yes':\n",
    "        print('Bye !!! ')\n",
    "        break"
   ]
  },
  {
   "cell_type": "code",
   "execution_count": 26,
   "metadata": {},
   "outputs": [
    {
     "name": "stdout",
     "output_type": "stream",
     "text": [
      "Please enter Full Name : Makpal\n",
      "Please enter username : Makpal\n",
      "Please enter password : 1234\n",
      "User has been created!\n",
      "Do you want to stop it? yes/no : yes\n",
      "Bye !!! \n"
     ]
    }
   ],
   "source": [
    "database = []\n",
    "import time\n",
    "while True:\n",
    "    studentObject = {}\n",
    "    studentObject['full_name'] = input('Please enter Full Name : ')\n",
    "    studentObject['username'] = input('Please enter username : ')\n",
    "    studentObject['password'] = input('Please enter password : ')\n",
    "    time.sleep(2)                                                  #sleeps 2 seconds\n",
    "    \n",
    "    database.append(studentObject)\n",
    "    print('User has been created!')\n",
    "    answer = input('Do you want to stop it? yes/no : ')\n",
    "    if answer == 'yes':\n",
    "        print('Bye !!! ')\n",
    "        break"
   ]
  },
  {
   "cell_type": "code",
   "execution_count": 27,
   "metadata": {},
   "outputs": [
    {
     "name": "stdout",
     "output_type": "stream",
     "text": [
      "Please enter Full Name : Makpal\n",
      "Please enter username : Makpal\n",
      "Please enter password : 1234\n",
      "User has been created!\n",
      "Do you want to stop it? yes/no : y\n",
      "Bye !!! \n"
     ]
    }
   ],
   "source": [
    "# changed the yes answer \n",
    "\n",
    "database = []\n",
    "import time\n",
    "yesAnswer = ['YES', 'Yes', 'y', 'Y', 'yes']\n",
    "while True:\n",
    "    studentObject = {}\n",
    "    studentObject['full_name'] = input('Please enter Full Name : ')\n",
    "    studentObject['username'] = input('Please enter username : ')\n",
    "    studentObject['password'] = input('Please enter password : ')\n",
    "    time.sleep(2)\n",
    "    \n",
    "    database.append(studentObject)\n",
    "    print('User has been created!')\n",
    "    answer = input('Do you want to stop it? yes/no : ')\n",
    "    if answer in yesAnswer:\n",
    "        print('Bye !!! ')\n",
    "        break"
   ]
  },
  {
   "cell_type": "code",
   "execution_count": null,
   "metadata": {},
   "outputs": [],
   "source": []
  }
 ],
 "metadata": {
  "kernelspec": {
   "display_name": "Python 3",
   "language": "python",
   "name": "python3"
  },
  "language_info": {
   "codemirror_mode": {
    "name": "ipython",
    "version": 3
   },
   "file_extension": ".py",
   "mimetype": "text/x-python",
   "name": "python",
   "nbconvert_exporter": "python",
   "pygments_lexer": "ipython3",
   "version": "3.6.5"
  }
 },
 "nbformat": 4,
 "nbformat_minor": 2
}
