{
 "cells": [
  {
   "cell_type": "code",
   "execution_count": 2,
   "metadata": {},
   "outputs": [
    {
     "name": "stdout",
     "output_type": "stream",
     "text": [
      "Yes, you can go!\n"
     ]
    }
   ],
   "source": [
    "door = 'open'\n",
    "if door == 'open':\n",
    "    print ('Yes, you can go!')"
   ]
  },
  {
   "cell_type": "code",
   "execution_count": 3,
   "metadata": {},
   "outputs": [
    {
     "name": "stdout",
     "output_type": "stream",
     "text": [
      "Yes, you can go!\n"
     ]
    }
   ],
   "source": [
    "door = 'open'\n",
    "if door == 'open':\n",
    "    print ('Yes, you can go!')\n",
    "elif door == 'close':\n",
    "    print('no, you can not go!')"
   ]
  },
  {
   "cell_type": "code",
   "execution_count": 4,
   "metadata": {},
   "outputs": [
    {
     "name": "stdout",
     "output_type": "stream",
     "text": [
      "no, you can not go!\n"
     ]
    }
   ],
   "source": [
    "door = 'close'\n",
    "if door == 'open':\n",
    "    print ('Yes, you can go!')\n",
    "elif door == 'close':\n",
    "    print('no, you can not go!')"
   ]
  },
  {
   "cell_type": "code",
   "execution_count": 5,
   "metadata": {},
   "outputs": [
    {
     "name": "stdout",
     "output_type": "stream",
     "text": [
      "no, you can not go!\n"
     ]
    }
   ],
   "source": [
    "door = 'close'\n",
    "if door == 'open':\n",
    "    print ('Yes, you can go!')\n",
    "if door == 'close':\n",
    "    print('no, you can not go!')"
   ]
  },
  {
   "cell_type": "code",
   "execution_count": 6,
   "metadata": {},
   "outputs": [
    {
     "name": "stdout",
     "output_type": "stream",
     "text": [
      "NO,you can not go\n"
     ]
    }
   ],
   "source": [
    "door = 'close'\n",
    "if door == 'open':\n",
    "    print ('Yes, you can go!')\n",
    "elif door == 'close':\n",
    "    print('NO,you can not go')\n",
    "else:\n",
    "    print('something wrong')"
   ]
  },
  {
   "cell_type": "code",
   "execution_count": 9,
   "metadata": {},
   "outputs": [
    {
     "name": "stdout",
     "output_type": "stream",
     "text": [
      "something wrong\n"
     ]
    }
   ],
   "source": [
    "door = 'awshysg'\n",
    "if door == 'open':\n",
    "    print ('Yes, you can go!')\n",
    "elif door == 'close':\n",
    "    print('NO,you can not go')\n",
    "else:\n",
    "    print('something wrong')"
   ]
  },
  {
   "cell_type": "code",
   "execution_count": 10,
   "metadata": {},
   "outputs": [
    {
     "name": "stdout",
     "output_type": "stream",
     "text": [
      "What is your name?: Makpal\n",
      "Hello Makpal\n"
     ]
    }
   ],
   "source": [
    "name = input('What is your name?: ')\n",
    "print('Hello ' + name )"
   ]
  },
  {
   "cell_type": "code",
   "execution_count": 11,
   "metadata": {},
   "outputs": [
    {
     "name": "stdout",
     "output_type": "stream",
     "text": [
      "What is your name?: Makpal\n",
      "Privet Makpal\n"
     ]
    }
   ],
   "source": [
    "name = input('What is your name?: ')\n",
    "\n",
    "if name == 'Makpal':\n",
    "    print('Privet ' + name)\n",
    "elif name == 'Bakdaulet':\n",
    "    print('Hello ' + name )"
   ]
  },
  {
   "cell_type": "code",
   "execution_count": 12,
   "metadata": {},
   "outputs": [
    {
     "name": "stdout",
     "output_type": "stream",
     "text": [
      "What is your name?: Daulet\n",
      "Hello Daulet\n"
     ]
    }
   ],
   "source": [
    "name = input('What is your name?: ')\n",
    "\n",
    "if name == 'Makpal':\n",
    "    print('Privet ' + name)\n",
    "elif name == 'Bakdaulet':\n",
    "    print('Hello ' + name )\n",
    "else:\n",
    "    print('Hello ' + name)"
   ]
  },
  {
   "cell_type": "code",
   "execution_count": 13,
   "metadata": {},
   "outputs": [
    {
     "name": "stdout",
     "output_type": "stream",
     "text": [
      "What is your name?: bakdaulet\n",
      "Hello bakdaulet\n"
     ]
    }
   ],
   "source": [
    "name = input('What is your name?: ')\n",
    "\n",
    "\n",
    "if name.capitalize() == 'Makpal':\n",
    "    print('Privet ' + name)\n",
    "elif name.capitalize() == 'Bakdaulet':\n",
    "    print('Hello ' + name )\n",
    "else:\n",
    "    print('Hello ' + name)"
   ]
  },
  {
   "cell_type": "code",
   "execution_count": 14,
   "metadata": {},
   "outputs": [
    {
     "name": "stdout",
     "output_type": "stream",
     "text": [
      "What is your name?: makpal\n",
      "Privet Makpal\n"
     ]
    }
   ],
   "source": [
    "name = input('What is your name?: ')\n",
    "\n",
    "name = name.capitalize()\n",
    "\n",
    "if name == 'Makpal':\n",
    "    print('Privet ' + name)\n",
    "elif name == 'Bakdaulet':\n",
    "    print('Hello ' + name )\n",
    "else:\n",
    "    print('Hello ' + name)"
   ]
  },
  {
   "cell_type": "code",
   "execution_count": 17,
   "metadata": {},
   "outputs": [
    {
     "name": "stdout",
     "output_type": "stream",
     "text": [
      "What is your name? :Abdul\n",
      "Sorry you can not come in\n"
     ]
    }
   ],
   "source": [
    "black_list = ['Abdul', 'Farkhod', 'Floria']\n",
    "student = input ('What is your name? :')\n",
    "\n",
    "if student in black_list:\n",
    "    print('Sorry you can not come in')"
   ]
  },
  {
   "cell_type": "code",
   "execution_count": 19,
   "metadata": {},
   "outputs": [
    {
     "name": "stdout",
     "output_type": "stream",
     "text": [
      "What is your name? :farkhod\n",
      "Sorry you can not come in\n"
     ]
    }
   ],
   "source": [
    "black_list = ['Abdul', 'Farkhod', 'Florin']\n",
    "student = input ('What is your name? :')\n",
    "\n",
    "student = student.capitalize()\n",
    "\n",
    "if student in black_list:\n",
    "    print('Sorry you can not come in')"
   ]
  },
  {
   "cell_type": "code",
   "execution_count": 21,
   "metadata": {},
   "outputs": [
    {
     "name": "stdout",
     "output_type": "stream",
     "text": [
      "What is your name? :Makpal\n",
      "Hello come in\n"
     ]
    }
   ],
   "source": [
    "black_list = ['Abdul', 'Farkhod', 'Florin']\n",
    "student = input ('What is your name? :')\n",
    "\n",
    "student = student.capitalize()\n",
    "\n",
    "if student in black_list:\n",
    "    print('Sorry you can not come in')\n",
    "else:\n",
    "    print('Hello come in')"
   ]
  },
  {
   "cell_type": "code",
   "execution_count": 29,
   "metadata": {},
   "outputs": [
    {
     "name": "stdout",
     "output_type": "stream",
     "text": [
      "What is your name? :Makpal\n"
     ]
    }
   ],
   "source": [
    "name = input('What is your name? :').capitalize()"
   ]
  },
  {
   "cell_type": "code",
   "execution_count": 30,
   "metadata": {},
   "outputs": [
    {
     "name": "stdout",
     "output_type": "stream",
     "text": [
      "What is your name? :Farkhod\n",
      "What is your birthday <year>? :1996\n"
     ]
    }
   ],
   "source": [
    "name = input('What is your name? :').capitalize()\n",
    "\n",
    "year = input('What is your birthday <year>? :')"
   ]
  },
  {
   "cell_type": "code",
   "execution_count": 31,
   "metadata": {},
   "outputs": [
    {
     "data": {
      "text/plain": [
       "str"
      ]
     },
     "execution_count": 31,
     "metadata": {},
     "output_type": "execute_result"
    }
   ],
   "source": [
    "type(year)"
   ]
  },
  {
   "cell_type": "code",
   "execution_count": 32,
   "metadata": {},
   "outputs": [
    {
     "name": "stdout",
     "output_type": "stream",
     "text": [
      "What is your name? :Makpal\n",
      "What is your birthday <year>? :1995\n"
     ]
    }
   ],
   "source": [
    "name = input('What is your name? :').capitalize()\n",
    "\n",
    "year = int(input('What is your birthday <year>? :'))\n"
   ]
  },
  {
   "cell_type": "code",
   "execution_count": 33,
   "metadata": {},
   "outputs": [
    {
     "name": "stdout",
     "output_type": "stream",
     "text": [
      "What is your name? :makpal\n",
      "What is your birthday <year>? :1995\n",
      "Your name is :Makpal, Year :1995\n"
     ]
    }
   ],
   "source": [
    "name = input('What is your name? :').capitalize()\n",
    "\n",
    "year = int(input('What is your birthday <year>? :'))\n",
    "\n",
    "print(f'Your name is :{name}, Year :{year}')"
   ]
  },
  {
   "cell_type": "code",
   "execution_count": 35,
   "metadata": {},
   "outputs": [
    {
     "name": "stdout",
     "output_type": "stream",
     "text": [
      "What is your name? :makpal\n",
      "What is your birthday <year>? :1995\n",
      "Your name is :Makpal, Your age is :24\n"
     ]
    }
   ],
   "source": [
    "name = input('What is your name? :').capitalize()\n",
    "\n",
    "year = int(input('What is your birthday <year>? :'))\n",
    "\n",
    "now = 2019\n",
    "\n",
    "age = now - year\n",
    "\n",
    "print(f'Your name is :{name}, Your age is :{age}')"
   ]
  },
  {
   "cell_type": "code",
   "execution_count": 36,
   "metadata": {},
   "outputs": [
    {
     "name": "stdout",
     "output_type": "stream",
     "text": [
      "Please come in\n"
     ]
    }
   ],
   "source": [
    "door = True\n",
    "\n",
    "if door:\n",
    "    print('Please come in')"
   ]
  },
  {
   "cell_type": "code",
   "execution_count": 37,
   "metadata": {},
   "outputs": [
    {
     "name": "stdout",
     "output_type": "stream",
     "text": [
      "Please come in\n"
     ]
    }
   ],
   "source": [
    "door = True\n",
    "\n",
    "if door == True:\n",
    "    print('Please come in')\n",
    "    "
   ]
  },
  {
   "cell_type": "code",
   "execution_count": 38,
   "metadata": {},
   "outputs": [
    {
     "name": "stdout",
     "output_type": "stream",
     "text": [
      "Door is open\n"
     ]
    }
   ],
   "source": [
    "door = True\n",
    "\n",
    "if door:\n",
    "    print('Door is open')\n",
    "    \n",
    "else:\n",
    "    print('Door is closed')"
   ]
  },
  {
   "cell_type": "code",
   "execution_count": 39,
   "metadata": {},
   "outputs": [
    {
     "name": "stdout",
     "output_type": "stream",
     "text": [
      "Door is closed\n"
     ]
    }
   ],
   "source": [
    "door = False\n",
    "\n",
    "if door:\n",
    "    print('Door is open')\n",
    "    \n",
    "else:\n",
    "    print('Door is closed')"
   ]
  },
  {
   "cell_type": "code",
   "execution_count": 46,
   "metadata": {},
   "outputs": [
    {
     "name": "stdout",
     "output_type": "stream",
     "text": [
      "['Python', 'Terraform', 'Ansible']\n"
     ]
    }
   ],
   "source": [
    "student = {\n",
    "    'First name': 'Abdul', \n",
    "    'last_name': 'sharif', \n",
    "    'username': 'asharif',\n",
    "    'password': 'redhat',\n",
    "    'status': False,\n",
    "    'classes': ['Python', 'Terraform', 'Ansible']\n",
    "}\n",
    "\n",
    "print(student['classes'])"
   ]
  },
  {
   "cell_type": "code",
   "execution_count": 48,
   "metadata": {},
   "outputs": [
    {
     "name": "stdout",
     "output_type": "stream",
     "text": [
      "redhat False\n"
     ]
    }
   ],
   "source": [
    "student = {\n",
    "    'First name': 'Abdul', \n",
    "    'last_name': 'sharif', \n",
    "    'username': 'asharif',\n",
    "    'password': 'redhat',\n",
    "    'status': False,\n",
    "    'classes': ['Python', 'Terraform', 'Ansible']\n",
    "}\n",
    "\n",
    "print(student['password'], student['status'])"
   ]
  },
  {
   "cell_type": "code",
   "execution_count": 50,
   "metadata": {},
   "outputs": [
    {
     "name": "stdout",
     "output_type": "stream",
     "text": [
      "########### Information about Abdul sharif) ######\n"
     ]
    }
   ],
   "source": [
    "student = {\n",
    "    'first_name': 'Abdul', \n",
    "    'last_name': 'sharif', \n",
    "    'username': 'asharif',\n",
    "    'password': 'redhat',\n",
    "    'status': False,\n",
    "    'classes': ['Python', 'Terraform', 'Ansible']\n",
    "}\n",
    "\n",
    "print(f'########### Information about {student[\"first_name\"]} {student[\"last_name\"]}) ######')"
   ]
  },
  {
   "cell_type": "code",
   "execution_count": 53,
   "metadata": {},
   "outputs": [
    {
     "name": "stdout",
     "output_type": "stream",
     "text": [
      "##############################\n",
      "########### Information about Abdul sharif) ######\n",
      "##############################\n",
      "##Username: asharif\n",
      "##Full name: Abdul sharif\n",
      "Abdul\n"
     ]
    }
   ],
   "source": [
    "student = {\n",
    "    'first_name': 'Abdul', \n",
    "    'last_name': 'sharif', \n",
    "    'username': 'asharif',\n",
    "    'password': 'redhat',\n",
    "    'status': False,\n",
    "    'classes': ['Python', 'Terraform', 'Ansible']\n",
    "}\n",
    "\n",
    "print('##############################')\n",
    "print(f'########### Information about {student[\"first_name\"]} {student[\"last_name\"]}) ######')\n",
    "print('##############################')\n",
    "print(f'##Username: {student[\"username\"]}')\n",
    "print(f'##Full name: {student[\"first_name\"]} {student[\"last_name\"]}')\n",
    "\n",
    "print(student[\"first_name\"])"
   ]
  },
  {
   "cell_type": "code",
   "execution_count": 54,
   "metadata": {},
   "outputs": [
    {
     "name": "stdout",
     "output_type": "stream",
     "text": [
      "##############################\n",
      "########### Information about Abdul sharif) ######\n",
      "##############################\n",
      "##Username: asharif\n",
      "##Full name: Abdul sharif\n"
     ]
    }
   ],
   "source": [
    "student = {\n",
    "    'first_name': 'Abdul', \n",
    "    'last_name': 'sharif', \n",
    "    'username': 'asharif',\n",
    "    'password': 'redhat',\n",
    "    'status': False,\n",
    "    'classes': ['Python', 'Terraform', 'Ansible']\n",
    "}\n",
    "\n",
    "print('##############################')\n",
    "print(f'########### Information about {student[\"first_name\"]} {student[\"last_name\"]}) ######')\n",
    "print('##############################')\n",
    "print(f'##Username: {student[\"username\"]}')\n",
    "print(f'##Full name: {student[\"first_name\"]} {student[\"last_name\"]}')\n",
    "\n",
    "if student['status']: \n",
    "      print(f'## User can not login')"
   ]
  },
  {
   "cell_type": "code",
   "execution_count": 55,
   "metadata": {},
   "outputs": [
    {
     "name": "stdout",
     "output_type": "stream",
     "text": [
      "##############################\n",
      "########### Information about Abdul sharif) ######\n",
      "##############################\n",
      "##Username: asharif\n",
      "##Full name: Abdul sharif\n",
      "## User can not login\n"
     ]
    }
   ],
   "source": [
    "student = {\n",
    "    'first_name': 'Abdul', \n",
    "    'last_name': 'sharif', \n",
    "    'username': 'asharif',\n",
    "    'password': 'redhat',\n",
    "    'status': False,\n",
    "    'classes': ['Python', 'Terraform', 'Ansible']\n",
    "}\n",
    "\n",
    "print('##############################')\n",
    "print(f'########### Information about {student[\"first_name\"]} {student[\"last_name\"]}) ######')\n",
    "print('##############################')\n",
    "print(f'##Username: {student[\"username\"]}')\n",
    "print(f'##Full name: {student[\"first_name\"]} {student[\"last_name\"]}')\n",
    "\n",
    "if student['status']: \n",
    "      print(f'## User can not login')\n",
    "else:\n",
    "      print('## User can not login')"
   ]
  },
  {
   "cell_type": "code",
   "execution_count": 60,
   "metadata": {},
   "outputs": [
    {
     "name": "stdout",
     "output_type": "stream",
     "text": [
      "##############################\n",
      "########### Information about Abdul sharif) ######\n",
      "##############################\n",
      "##Username: asharif\n",
      "##Full name: Abdul sharif\n",
      "## User can not login\n",
      "## User is attends Python classes\n",
      "## User is attends Terraform classes\n",
      "## User is attends Ansible classes\n"
     ]
    }
   ],
   "source": [
    "student = {\n",
    "    'first_name': 'Abdul', \n",
    "    'last_name': 'sharif', \n",
    "    'username': 'asharif',\n",
    "    'password': 'redhat',\n",
    "    'status': False,\n",
    "    'classes': ['Python', 'Terraform', 'Ansible']\n",
    "}\n",
    "\n",
    "print('##############################')\n",
    "print(f'########### Information about {student[\"first_name\"]} {student[\"last_name\"]}) ######')\n",
    "print('##############################')\n",
    "print(f'##Username: {student[\"username\"]}')\n",
    "print(f'##Full name: {student[\"first_name\"]} {student[\"last_name\"]}')\n",
    "\n",
    "if student['status']: \n",
    "      print(f'## User can not login')\n",
    "else:\n",
    "      print('## User can not login')\n",
    "if 'Python' in student['classes']:\n",
    "      print(f'## User is attends Python classes')\n",
    "if 'Terraform' in student['classes']:\n",
    "      print(f'## User is attends Terraform classes')\n",
    "if 'Ansible' in student['classes']:\n",
    "      print(f'## User is attends Ansible classes')      \n",
    "            "
   ]
  },
  {
   "cell_type": "code",
   "execution_count": null,
   "metadata": {},
   "outputs": [],
   "source": []
  }
 ],
 "metadata": {
  "kernelspec": {
   "display_name": "Python 3",
   "language": "python",
   "name": "python3"
  },
  "language_info": {
   "codemirror_mode": {
    "name": "ipython",
    "version": 3
   },
   "file_extension": ".py",
   "mimetype": "text/x-python",
   "name": "python",
   "nbconvert_exporter": "python",
   "pygments_lexer": "ipython3",
   "version": "3.6.5"
  }
 },
 "nbformat": 4,
 "nbformat_minor": 2
}
