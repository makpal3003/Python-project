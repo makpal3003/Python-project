{
 "cells": [
  {
   "cell_type": "code",
   "execution_count": 3,
   "metadata": {},
   "outputs": [
    {
     "name": "stdout",
     "output_type": "stream",
     "text": [
      "[{'username': 'keving', 'status': True, 'firstname': 'Kevin', 'lastname': 'Wick', 'gender': 'male', 'member': 'FuchiCorp', 'email': 'kevin.wick@fuchicorp.com'}, {'username': 'cutiebun', 'status': False, 'firstname': 'Emma', 'lastname': 'Gibson', 'gender': 'female', 'member': 'Apple', 'email': 'emma.gibson@apple.com'}]\n",
      "[]\n"
     ]
    },
    {
     "data": {
      "text/plain": [
       "[]"
      ]
     },
     "execution_count": 3,
     "metadata": {},
     "output_type": "execute_result"
    }
   ],
   "source": [
    "Female = []   #This creates a Female list\n",
    "Male = []     # This created a Male List\n",
    "\n",
    "#  Create first object call user1 with following information  1. username  keving 2. status Should enabled with bool.\n",
    "#    3. first_name kevin .4. last_name wick .5. gender male. 6. member FuchiCorp \n",
    "\n",
    "user1 = {'username':'keving', 'status': True, 'firstname': 'Kevin', 'lastname':'Wick', 'gender': 'male', 'member':'FuchiCorp'}\n",
    "\n",
    "#Create second object call user2 with following information. 1. username cutiebun. 2. status should be disabled with bool. \n",
    "#       3. first_name Emma .4. last_name Gipson. 5. gender female.6. member Apple \n",
    "\n",
    "user2 = {'username':'cutiebun', 'status': False, 'firstname': 'Emma', 'lastname':'Gibson', 'gender': 'female', 'member':'Apple'}\n",
    " \n",
    "\n",
    "# Create if statement to create proper email. 1. If user's member is fuchicorp or apple. \n",
    "#2. create key email and store the value firstname.lastname@member.com. 3. Make sure email is properly set \n",
    "    \n",
    "if user1['member'].lower() == 'fuchicorp' or user1['member'].lower() == 'apple':\n",
    "    email = user1['firstname'].lower() + '.' + user1['lastname'].lower() + '@' + user1['member'].lower() + '.com'\n",
    "    user1.update({'email':email})\n",
    "\n",
    "if user2['member'].lower() == 'fuchicorp' or user2['member'].lower() == 'apple':\n",
    "    email = user2['firstname'].lower() + '.' + user2['lastname'].lower() + '@' + user2['member'].lower() + '.com'\n",
    "    user2.update({'email':email})\n",
    "if user1['gender'].lower() == 'Male':\n",
    "    Male.append(user1)\n",
    "else:\n",
    "    Female.append(user1)\n",
    "\n",
    "\n",
    "# Create if staments to add gender of user1 user2 1. if user is female add user to female list. \n",
    "# 2. else if user is male add user to male list. 3. don't use elif we don't have something else  \n",
    "\n",
    "if user2['gender'].lower() == 'Male':\n",
    "    Male.append(user2)\n",
    "else:\n",
    "    Female.append(user2)\n",
    "\n",
    "print(Female)\n",
    "print(Male)\n",
    "[{'username': 'keving', \n",
    "  'status': True, \n",
    "  'firstname': 'Kevin', \n",
    "  'lastname': 'Wick', \n",
    "  'gender': 'male', \n",
    "  'member': 'FuchiCorp', \n",
    "  'email': 'kevin.wick@fuchicorp.com'}, \n",
    " {'username': 'cutiebun', \n",
    "  'status': False, \n",
    "  'firstname': 'Emma', \n",
    "  'lastname': 'Gibson', \n",
    "  'gender': 'female', \n",
    "  'member': 'Apple', \n",
    "  'email': 'emma.gibson@apple.com'}]\n",
    "[]"
   ]
  },
  {
   "cell_type": "code",
   "execution_count": null,
   "metadata": {},
   "outputs": [],
   "source": []
  },
  {
   "cell_type": "code",
   "execution_count": null,
   "metadata": {},
   "outputs": [],
   "source": []
  }
 ],
 "metadata": {
  "kernelspec": {
   "display_name": "Python 3",
   "language": "python",
   "name": "python3"
  },
  "language_info": {
   "codemirror_mode": {
    "name": "ipython",
    "version": 3
   },
   "file_extension": ".py",
   "mimetype": "text/x-python",
   "name": "python",
   "nbconvert_exporter": "python",
   "pygments_lexer": "ipython3",
   "version": "3.6.5"
  }
 },
 "nbformat": 4,
 "nbformat_minor": 2
}
